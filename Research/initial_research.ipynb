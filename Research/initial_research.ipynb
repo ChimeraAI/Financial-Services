{
 "metadata": {
  "language_info": {
   "codemirror_mode": {
    "name": "ipython",
    "version": 3
   },
   "file_extension": ".py",
   "mimetype": "text/x-python",
   "name": "python",
   "nbconvert_exporter": "python",
   "pygments_lexer": "ipython3",
   "version": "3.9.2-final"
  },
  "orig_nbformat": 2,
  "kernelspec": {
   "name": "python392jvsc74a57bd0eb922858a81df2b5355d81aac6455f1fa1ac405dc449ec0d5de374a218ea0748",
   "display_name": "Python 3.9.2 64-bit"
  },
  "metadata": {
   "interpreter": {
    "hash": "eb922858a81df2b5355d81aac6455f1fa1ac405dc449ec0d5de374a218ea0748"
   }
  }
 },
 "nbformat": 4,
 "nbformat_minor": 2,
 "cells": [
  {
   "cell_type": "code",
   "execution_count": 1,
   "metadata": {},
   "outputs": [
    {
     "output_type": "execute_result",
     "data": {
      "text/plain": [
       "'\\n- How to distinguish news movement vs non-news movement\\n'"
      ]
     },
     "metadata": {},
     "execution_count": 1
    }
   ],
   "source": [
    "\"\"\"\n",
    "- Primary Objective\n",
    " - When creating a premarket watchlist, I need the ability to determine which stock picks has the highest chance of sustained open market to midday move. \n",
    "- Define success definition\n",
    " - Largest 9:30 AM - 12:00 PM stock gainers and  losers\n",
    " - Highest option gainers and losers during 9:30 AM - 12:00 PM\n",
    " - If (CurrentOpen - PrevClose) is positive > than If (DayAvg. - CurrentOpen) is positive\n",
    "- Analyze for patterns\n",
    " - Get spy, qqq, and dia to understand overall performance of the day\n",
    " - Get news \n",
    "\"\"\"\n",
    "\n",
    "\"\"\"\n",
    "- How to distinguish news movement vs non-news movement\n",
    "\"\"\""
   ]
  },
  {
   "cell_type": "code",
   "execution_count": 4,
   "metadata": {},
   "outputs": [],
   "source": [
    "## Pull in raw price data\n",
    "from datetime import datetime\n",
    "from iexfinance.stocks import get_historical_data\n",
    "\n",
    "token = \"pk_6bae0caafd6942bcbfcb3374895fd4ae\"\n",
    "\n",
    "start = datetime(2021, 3, 1)\n",
    "end = datetime(2021, 4, 1)\n",
    "rawImport = get_historical_data(\"tsla\", start, end, output_format = 'pandas', token = token)\n",
    "filterImport = rawImport[['symbol','open','close','high','low','volume','label']]\n"
   ]
  },
  {
   "cell_type": "code",
   "execution_count": 2,
   "metadata": {},
   "outputs": [
    {
     "output_type": "stream",
     "name": "stdout",
     "text": [
      "<class 'list'>\n"
     ]
    }
   ],
   "source": [
    "post_data = []\n",
    "for i in range(len(filterImport)):\n",
    "    post_data.append([\n",
    "        str(filterImport['symbol'][i]),\n",
    "        str(filterImport['open'][i]),\n",
    "        str(filterImport['close'][i]),\n",
    "        str(filterImport['high'][i]),\n",
    "        str(filterImport['low'][i]),\n",
    "        str(filterImport['volume'][i]),\n",
    "        str(filterImport['label'][i])\n",
    "    ])\n",
    "print(type(post_data))\n",
    "print()\n"
   ]
  },
  {
   "cell_type": "code",
   "execution_count": 5,
   "metadata": {},
   "outputs": [
    {
     "output_type": "stream",
     "name": "stdout",
     "text": [
      "<class 'pandas.core.frame.DataFrame'>\n<class 'list'>\n[Pandas(symbol='TSLA', open=690.11, close=718.43, high=872, low=685.05, volume=27136239, label='Mar 1, 21'), Pandas(symbol='TSLA', open=718.28, close=686.44, high=721.11, low=685, volume=23732158, label='Mar 2, 21'), Pandas(symbol='TSLA', open=687.99, close=653.2, high=700.7, low=651.705, volume=30207960, label='Mar 3, 21'), Pandas(symbol='TSLA', open=655.8, close=621.44, high=873.94, low=600, volume=65919530, label='Mar 4, 21'), Pandas(symbol='TSLA', open=626.06, close=597.95, high=627.8419, low=539.49, volume=89396459, label='Mar 5, 21'), Pandas(symbol='TSLA', open=600.55, close=563, high=620.125, low=558.79, volume=51786958, label='Mar 8, 21'), Pandas(symbol='TSLA', open=608.18, close=673.58, high=678.09, low=595.21, volume=67523328, label='Mar 9, 21'), Pandas(symbol='TSLA', open=700.3, close=668.06, high=717.85, low=655.06, volume=60605672, label='Mar 10, 21'), Pandas(symbol='TSLA', open=699.4, close=699.6, high=702.5, low=677.18, volume=36253892, label='Mar 11, 21'), Pandas(symbol='TSLA', open=670, close=693.73, high=694.88, low=666.1394, volume=33583840, label='Mar 12, 21'), Pandas(symbol='TSLA', open=694.09, close=707.94, high=713.18, low=684.04, volume=29423479, label='Mar 15, 21'), Pandas(symbol='TSLA', open=703.35, close=676.88, high=707.92, low=671, volume=32195672, label='Mar 16, 21'), Pandas(symbol='TSLA', open=656.87, close=701.81, high=703.73, low=651.01, volume=40372453, label='Mar 17, 21'), Pandas(symbol='TSLA', open=684.29, close=653.16, high=689.23, low=652, volume=33369022, label='Mar 18, 21'), Pandas(symbol='TSLA', open=646.6, close=654.87, high=657.23, low=624.6201, volume=42893978, label='Mar 19, 21'), Pandas(symbol='TSLA', open=684.59, close=670, high=699.62, low=668.75, volume=39512221, label='Mar 22, 21'), Pandas(symbol='TSLA', open=675.77, close=662.16, high=677.8, low=657.51, volume=30491870, label='Mar 23, 21'), Pandas(symbol='TSLA', open=667.91, close=630.27, high=668.02, low=630.11, volume=33795174, label='Mar 24, 21'), Pandas(symbol='TSLA', open=613, close=640.39, high=645.5, low=609.5, volume=39224850, label='Mar 25, 21'), Pandas(symbol='TSLA', open=641.87, close=618.71, high=643.82, low=599.89, volume=33852827, label='Mar 26, 21'), Pandas(symbol='TSLA', open=615.64, close=611.29, high=616.48, low=596.02, volume=28636985, label='Mar 29, 21'), Pandas(symbol='TSLA', open=601.75, close=635.62, high=637.66, low=591.01, volume=39432359, label='Mar 30, 21'), Pandas(symbol='TSLA', open=646.62, close=667.93, high=672, low=641.11, volume=33337288, label='Mar 31, 21'), Pandas(symbol='TSLA', open=688.37, close=661.75, high=692.4203, low=659.42, volume=35298378, label='Apr 1, 21')]\n"
     ]
    }
   ],
   "source": [
    "print(type(filterImport))\n",
    "post_data = list(filterImport.itertuples(index=False))\n",
    "print(type(post_data))\n",
    "print(post_data)"
   ]
  },
  {
   "cell_type": "code",
   "execution_count": 9,
   "metadata": {},
   "outputs": [
    {
     "output_type": "stream",
     "name": "stdout",
     "text": [
      "{'user': 'postgres', 'dbname': 'Research', 'host': 'localhost', 'port': '5432', 'tty': '', 'options': '', 'sslmode': 'prefer', 'sslcompression': '0', 'krbsrvname': 'postgres', 'target_session_attrs': 'any'} \n\nYou are connected to -  ('PostgreSQL 13.2, compiled by Visual C++ build 1914, 64-bit',) \n\n"
     ]
    }
   ],
   "source": [
    "## Load raw price data to database\n",
    "import psycopg2\n",
    "port = 5432\n",
    "user = 'postgres'\n",
    "host = 'localhost'\n",
    "database = 'Research'\n",
    "password = 'One_Drive^@11'\n",
    "try:\n",
    "    connection = psycopg2.connect(\n",
    "        user = user, \n",
    "        password = password, \n",
    "        host = host, \n",
    "        port = port, \n",
    "        database = database\n",
    "    )\n",
    "\n",
    "    cursor = connection.cursor()\n",
    "    # Print PostgreSQL Connection properties\n",
    "    print ( connection.get_dsn_parameters(),\"\\n\")\n",
    "\n",
    "    # Print PostgreSQL version\n",
    "    cursor.execute(\"SELECT version();\")\n",
    "    record = cursor.fetchone()\n",
    "    print(\"You are connected to - \", record,\"\\n\")\n",
    "\n",
    "except (Exception, psycopg2.Error) as error :\n",
    "    print (\"Error while connecting to PostgreSQL\", error)"
   ]
  },
  {
   "cell_type": "code",
   "execution_count": 10,
   "metadata": {},
   "outputs": [
    {
     "output_type": "stream",
     "name": "stdout",
     "text": [
      "INSERT INTO research_sch.raw_historical_prices (symbol,open,close,high,low,volume,date)  VALUES (%s,%s,%s,%s,%s,%s,%s);\n"
     ]
    }
   ],
   "source": [
    "db_schema = 'research_sch'\n",
    "table = 'raw_historical_prices'\n",
    "insertList = tuple(post_data)\n",
    "columns = ['symbol','open','close','high','low','volume','date']\n",
    "columnstring = \" (\"\n",
    "endstring = \"(\"\n",
    "for item in columns:\n",
    "    columnstring = columnstring + item + \",\"\n",
    "    endstring = endstring + \"%s,\"\n",
    "       \n",
    "columnstring = columnstring[:-1]\n",
    "columnstring = columnstring + \") \"\n",
    "\n",
    "endstring = endstring[:-1]\n",
    "endstring = endstring + \");\"\n",
    "query_string = 'INSERT INTO ' + db_schema + '.' + table + columnstring +' VALUES ' + endstring\n",
    "\n",
    "print(query_string)\n",
    "\n",
    "# Execute query\n",
    "try:\n",
    "    cursor.executemany(query_string, insertList)\n",
    "    connection.commit()\n",
    "except RuntimeError as e:\n",
    "    print(e)\n",
    "        \n",
    "cursor.close()\n"
   ]
  },
  {
   "cell_type": "code",
   "execution_count": 17,
   "metadata": {},
   "outputs": [
    {
     "output_type": "stream",
     "name": "stdout",
     "text": [
      "2021-03-04\n2021-04-03\n"
     ]
    }
   ],
   "source": [
    "from datetime import timedelta\n",
    "from datetime import datetime\n",
    "from datetime import date\n",
    "start = date.today() - timedelta(days=30)\n",
    "end = date.today()\n",
    "print(start)\n",
    "print(end)"
   ]
  },
  {
   "cell_type": "code",
   "execution_count": 1,
   "metadata": {
    "tags": []
   },
   "outputs": [
    {
     "output_type": "stream",
     "name": "stdout",
     "text": [
      "<class 'list'>\n"
     ]
    }
   ],
   "source": [
    "import csv\n",
    "import pandas as pd\n",
    "file = 'C:\\\\Users\\\\yimin\\\\Documents\\\\Github Repos\\\\Financial-Services\\\\Research\\\\files\\\\Tracker.csv'\n",
    "df = pd.read_csv(file)\n",
    "post_data = list(df.itertuples(index=False))\n",
    "print(type(post_data))"
   ]
  },
  {
   "cell_type": "code",
   "execution_count": 2,
   "metadata": {
    "tags": [
     "outputPrepend"
    ]
   },
   "outputs": [
    {
     "output_type": "stream",
     "name": "stdout",
     "text": [
      "L', Name='Apple', Price=123.01, Bid=123.0, Ask=123.01, _5=0.01, _6=0.01, _7=145.09, _8=59.225, _9=124.18, _10=122.49, Volume=73851286.0, _12=2064935808000.0, Sector='Information Technology'), Pandas(Symbol='ABBV', Name='AbbVie', Price=108.45, Bid=108.01, Ask=109.73, _5=0.3, _6=0.28, _7=113.41, _8=71.43, _9=108.9822, _10=107.32, Volume=4112996.0, _12=191395358552.0, Sector='Health Care'), Pandas(Symbol='ACN', Name='Accenture', Price=278.49, Bid=278.22, Ask=278.49, _5=2.14, _6=0.77, _7=281.3, _8=148.28, _9=278.77, _10=276.065, Volume=1466011.0, _12=177021390120.0, Sector='Information Technology'), Pandas(Symbol='ACTC', Name='ArcLight Clean Transition', Price=18.38, Bid=18.3, Ask=18.74, _5=0.48, _6=2.68, _7=31.06, _8=9.74, _9=19.75, _10=18.2209, Volume=896469.0, _12=637556250.0, Sector=nan), Pandas(Symbol='ADI', Name='Analog Devices', Price=160.38, Bid=158.21, Ask=161.0, _5=5.3475, _6=3.45, _7=164.4, _8=82.9, _9=160.49, _10=156.89, Volume=3332383.0, _12=59163178341.0, Sector='Information Technology'), Pandas(Symbol='AMBA', Name='Ambarella', Price=105.23, Bid=105.01, Ask=105.5, _5=4.67, _6=4.65, _7=137.2099, _8=43.69, _9=105.8, _10=101.12, Volume=402987.0, _12=3814453963.0, Sector='Information Technology'), Pandas(Symbol='AMC', Name='AMC Entertainment', Price=9.27, Bid=9.26, Ask=9.3, _5=-0.1, _6=-1.07, _7=20.36, _8=1.91, _9=10.26, _10=9.15, Volume=76727415.0, _12=4213416885.0, Sector='Communication Services'), Pandas(Symbol='AMD', Name='Advanced Micro Devices', Price=81.09, Bid=81.09, Ask=81.11, _5=2.59, _6=3.3, _7=99.23, _8=41.7, _9=81.3092, _10=79.48, Volume=38440337.0, _12=98492531338.0, Sector='Information Technology'), Pandas(Symbol='AMZN', Name='Amazon.com', Price=3161.0, Bid=3160.08, Ask=3161.0, _5=66.92, _6=2.16, _7=3552.25, _8=1889.15, _9=3162.44, _10=3115.58, Volume=2883616.0, _12=1591768152623.0, Sector='Consumer Discretionary'), Pandas(Symbol='AQB', Name='AquaBounty Technologies', Price=6.74, Bid=6.73, Ask=6.9, _5=0.04, _6=0.6, _7=13.32, _8=1.6, _9=7.06, _10=6.73, Volume=1216290.0, _12=478129298.0, Sector='Health Care'), Pandas(Symbol='ARKG', Name='ARK Genomic Revolution ETF', Price=nan, Bid=nan, Ask=nan, _5=nan, _6=nan, _7=nan, _8=nan, _9=nan, _10=nan, Volume=nan, _12=nan, Sector=nan), Pandas(Symbol='AXP', Name='American Express', Price=144.6, Bid=141.25, Ask=144.6, _5=3.1356, _6=2.22, _7=151.46, _8=72.61, _9=144.63, _10=142.24, Volume=2217323.0, _12=116174648981.0, Sector='Financials'), Pandas(Symbol='AZN', Name='AstraZeneca', Price=49.53, Bid=49.52, Ask=49.59, _5=-0.19, _6=-0.38, _7=64.94, _8=42.8, _9=49.785, _10=49.325, Volume=5880606.0, _12=130039841436.0, Sector='Health Care'), Pandas(Symbol='BA', Name='Boeing', Price=252.85, Bid=252.69, Ask=252.9, _5=-1.87, _6=-0.73, _7=278.5671, _8=113.89, _9=257.8799, _10=251.32, Volume=10819289.0, _12=147573409904.0, Sector='Industrials'), Pandas(Symbol='BABA', Name='Alibaba Group Holding', Price=224.29, Bid=224.29, Ask=224.3, _5=-2.405, _6=-1.06, _7=319.32, _8=185.04, _9=231.25, _10=223.5, Volume=22261456.0, _12=608481562500.0, Sector='Consumer Discretionary'), Pandas(Symbol='BAC', Name='Bank of America', Price=39.51, Bid=39.49, Ask=39.54, _5=0.8, _6=2.07, _7=39.9678, _8=19.51, _9=39.52, _10=38.73, Volume=64507618.0, _12=340862748329.0, Sector='Financials'), Pandas(Symbol='BIDU', Name='Baidu', Price=219.7, Bid=219.76, Ask=220.0, _5=2.15, _6=0.99, _7=354.82, _8=90.94, _9=227.3899, _10=215.6181, Volume=14777037.0, _12=73737464569.0, Sector='Communication Services'), Pandas(Symbol='BLNK', Name='Blink Charging', Price=41.25, Bid=41.13, Ask=41.4, _5=0.1499, _6=0.36, _7=64.5, _8=1.46, _9=44.39, _10=40.61, Volume=7016340.0, _12=1729990185.0, Sector='Consumer Discretionary'), Pandas(Symbol='BNTX', Name='BioNTech', Price=113.87, Bid=113.68, Ask=114.1, _5=4.61, _6=4.22, _7=131.0, _8=37.0, _9=114.05, _10=110.51, Volume=1961256.0, _12=27502003671.0, Sector='Health Care'), Pandas(Symbol='BP', Name='BP', Price=24.575, Bid=24.54, Ask=24.59, _5=0.225, _6=0.92, _7=28.57, _8=14.74, _9=24.605, _10=24.1, Volume=14394929.0, _12=83341766435.0, Sector='Energy'), Pandas(Symbol='CAT', Name='Caterpillar', Price=232.73, Bid=232.45, Ask=232.84, _5=0.835, _6=0.36, _7=237.78, _8=100.22, _9=234.91, _10=227.59, Volume=3764829.0, _12=126908564312.0, Sector='Industrials'), Pandas(Symbol='CCIV', Name='Churchill Cap Corp', Price=23.8, Bid=23.75, Ask=23.82, _5=0.6294, _6=2.72, _7=64.86, _8=9.6, _9=24.47, _10=23.21, Volume=12624004.0, _12=6162183000.0, Sector=nan), Pandas(Symbol='CCL', Name='Carnival', Price=26.81, Bid=26.87, Ask=26.9, _5=0.32, _6=1.21, _7=30.12, _8=7.8, _9=27.1, _10=26.5327, Volume=19541732.0, _12=31012904234.0, Sector='Consumer Discretionary'), Pandas(Symbol='DIA', Name='SPDR Dow Jones Industrial Average ETF', Price=331.56, Bid=331.5, Ask=331.56, _5=0.1, _6=0.03, _7=332.86, _8=207.18, _9=331.6, _10=329.72, Volume=5492550.0, _12=nan, Sector=nan), Pandas(Symbol='DIS', Name='Walt Disney', Price=188.9, Bid=188.71, Ask=189.1, _5=-0.16, _6=-0.08, _7=203.02, _8=92.1, _9=189.1, _10=185.6, Volume=6914040.0, _12=343193792744.0, Sector='Communication Services'), Pandas(Symbol='DKNG', Name='DraftKings', Price=62.88, Bid=62.76, Ask=62.9, _5=1.55, _6=2.53, _7=74.38, _8=18.0, _9=63.28, _10=61.34, Volume=9831811.0, _12=25007689708.0, Sector='Consumer Discretionary'), Pandas(Symbol='DOCU', Name='DocuSign', Price=206.29, Bid=205.5, Ask=207.07, _5=3.81, _6=1.88, _7=290.23, _8=78.72, _9=210.49, _10=205.3, Volume=2234656.0, _12=39832032752.0, Sector='Information Technology'), Pandas(Symbol='ENPH', Name='Enphase Energy', Price=162.69, Bid=162.45, Ask=163.77, _5=0.57, _6=0.35, _7=229.04, _8=27.55, _9=172.35, _10=162.25, Volume=2468789.0, _12=22060133738.0, Sector='Information Technology'), Pandas(Symbol='ETSY', Name='Etsy', Price=208.2, Bid=208.0, Ask=208.5, _5=6.54, _6=3.24, _7=251.86, _8=33.96, _9=212.14, _10=205.4, Volume=1752865.0, _12=26243459263.0, Sector='Consumer Discretionary'), Pandas(Symbol='FB', Name='Facebook', Price=298.66, Bid=298.55, Ask=298.87, _5=4.16, _6=1.41, _7=304.67, _8=150.83, _9=302.4, _10=296.6, Volume=17563740.0, _12=850485107565.0, Sector='Communication Services'), Pandas(Symbol='FCEL', Name='FuelCell Energy', Price=14.35, Bid=14.33, Ask=14.37, _5=-0.06, _6=-0.42, _7=29.4396, _8=1.26, _9=15.55, _10=14.22, Volume=33750657.0, _12=4626857915.0, Sector='Industrials'), Pandas(Symbol='FDX', Name='FedEx', Price=283.36, Bid=283.36, Ask=283.59, _5=-0.55, _6=-0.19, _7=305.66, _8=103.4001, _9=284.99, _10=281.79, Volume=1233731.0, _12=75187330372.0, Sector='Industrials'), Pandas(Symbol='FNMA', Name='Fannie Mae', Price=2.04, Bid=nan, Ask=nan, _5=-0.03, _6=-1.45, _7=nan, _8=nan, _9=2.1, _10=2.04, Volume=2872473.0, _12=2362498636.0, Sector=nan), Pandas(Symbol='FTCH', Name='Farfetch', Price=52.92, Bid=52.87, Ask=53.01, _5=-0.1, _6=-0.19, _7=73.87, _8=6.68, _9=55.58, _10=52.44, Volume=5014826.0, _12=18774613143.0, Sector='Consumer Discretionary'), Pandas(Symbol='GLW', Name='Corning', Price=44.03, Bid=43.4, Ask=44.55, _5=0.48, _6=1.1, _7=44.12, _8=17.82, _9=44.06, _10=43.4, Volume=3419962.0, _12=33866290920.0, Sector='Information Technology'), Pandas(Symbol='HD', Name='Home Depot', Price=307.84, Bid=303.0, Ask=308.01, _5=2.59, _6=0.85, _7=308.54, _8=174.0, _9=308.54, _10=303.89, Volume=3746604.0, _12=331565038862.0, Sector='Consumer Discretionary'), Pandas(Symbol='IMAX', Name='Imax', Price=20.98, Bid=20.96, Ask=21.01, _5=0.88, _6=4.38, _7=25.05, _8=8.25, _9=21.09, _10=20.31, Volume=807019.0, _12=1236746432.0, Sector='Communication Services'), Pandas(Symbol='INTC', Name='Intel', Price=64.55, Bid=64.47, Ask=64.6, _5=0.55, _6=0.86, _7=67.44, _8=43.61, _9=64.87, _10=63.575, Volume=27472063.0, _12=262869914676.0, Sector='Information Technology'), Pandas(Symbol='JMIA', Name='Jumia Technologies', Price=37.97, Bid=37.83, Ask=38.52, _5=2.55, _6=7.19, _7=69.89, _8=2.55, _9=38.5577, _10=36.13, Volume=9670557.0, _12=3744546340.0, Sector='Consumer Discretionary'), Pandas(Symbol='JNJ', Name='Johnson & Johnson', Price=162.87, Bid=162.5, Ask=162.87, _5=-1.51, _6=-0.92, _7=173.65, _8=125.5, _9=163.84, _10=162.26, Volume=6826963.0, _12=428788919055.0, Sector='Health Care'), Pandas(Symbol='JPM', Name='JPMorgan Chase', Price=153.73, Bid=152.9, Ask=153.75, _5=1.4402, _6=0.95, _7=161.69, _8=82.4, _9=153.78, _10=151.56, Volume=14215344.0, _12=469108084406.0, Sector='Financials'), Pandas(Symbol='KTOS', Name='Kratos Defense & Security', Price=28.29, Bid=28.21, Ask=28.45, _5=1.01, _6=3.7, _7=34.11, _8=12.78, _9=28.7, _10=27.69, Volume=1361494.0, _12=3492770985.0, Sector='Industrials'), Pandas(Symbol='LOW', Name=\"Lowe's Companies\", Price=191.26, Bid=190.75, Ask=191.4, _5=1.1345, _6=0.6, _7=192.91, _8=79.08, _9=191.88, _10=189.74, Volume=3191714.0, _12=137182545513.0, Sector='Consumer Discretionary'), Pandas(Symbol='LUV', Name='Southwest Airlines', Price=61.28, Bid=61.0, Ask=61.49, _5=0.2498, _6=0.41, _7=62.7561, _8=22.465, _9=61.56, _10=60.76, Volume=4945958.0, _12=36196715606.0, Sector='Industrials'), Pandas(Symbol='MARA', Name='Marathon Digital Holdings', Price=49.18, Bid=49.0, Ask=49.32, _5=0.33, _6=0.68, _7=49.4069, _8=0.38, _9=51.76, _10=47.3108, Volume=20404000.0, _12=4826606468.0, Sector='Information Technology'), Pandas(Symbol='MAXR', Name='Maxar Technologies', Price=38.1, Bid=38.04, Ask=38.31, _5=0.29, _6=0.77, _7=58.75, _8=8.65, _9=38.85, _10=37.052, Volume=931359.0, _12=2732487000.0, Sector='Industrials'), Pandas(Symbol='MP', Name='MP Materials', Price=35.11, Bid=35.07, Ask=35.2, _5=-0.84, _6=-2.34, _7=51.77, _8=15.45, _9=36.97, _10=34.5438, Volume=4437785.0, _12=5994623468.0, Sector='Materials'), Pandas(Symbol='MRNA', Name='Moderna', Price=132.55, Bid=132.17, Ask=132.64, _5=1.6, _6=1.22, _7=189.26, _8=28.27, _9=136.6372, _10=130.34, Volume=6970896.0, _12=53089640046.0, Sector='Health Care'), Pandas(Symbol='MSFT', Name='Microsoft', Price=242.35, Bid=242.35, Ask=242.38, _5=6.62, _6=2.81, _7=246.13, _8=150.01, _9=242.64, _10=238.0501, Volume=26603719.0, _12=1827855991132.0, Sector='Information Technology'), Pandas(Symbol='MU', Name='Micron Technology', Price=92.47, Bid=92.45, Ask=92.5, _5=0.06, _6=0.06, _7=95.75, _8=39.33, _9=94.38, _10=91.25, Volume=37959235.0, _12=103630011992.0, Sector='Information Technology'), Pandas(Symbol='MVIS', Name='Microvision', Price=15.54, Bid=15.5, Ask=15.55, _5=-3.01, _6=-16.23, _7=24.18, _8=0.17, _9=17.389, _10=15.2, Volume=25791903.0, _12=2444868029.0, Sector='Information Technology'), Pandas(Symbol='NEE', Name='NextEra Energy', Price=75.8, Bid=75.74, Ask=75.8, _5=0.165, _6=0.22, _7=1232.24, _8=68.33, _9=76.38, _10=75.38, Volume=5153563.0, _12=148677535548.0, Sector='Utilities'), Pandas(Symbol='NFLX', Name='Netflix', Price=539.42, Bid=539.04, Ask=540.05, _5=17.76, _6=3.4, _7=593.2877, _8=357.51, _9=540.29, _10=527.03, Volume=3587822.0, _12=238906561688.0, Sector='Communication Services'), Pandas(Symbol='NIO', Name='NIO', Price=39.51, Bid=38.8, Ask=45.0, _5=-0.16, _6=-0.4, _7=66.99, _8=2.22, _9=42.06, _10=39.25, Volume=114678307.0, _12=61872831981.0, Sector='Consumer Discretionary'), Pandas(Symbol='NVDA', Name='NVIDIA', Price=552.47, Bid=552.37, Ask=553.24, _5=18.54, _6=3.47, _7=614.9, _8=238.39, _9=554.8, _10=540.45, Volume=7365502.0, _12=342531400000.0, Sector='Information Technology'), Pandas(Symbol='NXPI', Name='NXP Semiconductors', Price=208.08, Bid=207.0, Ask=208.5, _5=6.92, _6=3.44, _7=209.59, _8=72.86, _9=208.31, _10=204.1406, Volume=2546724.0, _12=57377399762.0, Sector='Information Technology'), Pandas(Symbol='OGI', Name='OrganiGram Holdings', Price=3.44, Bid=3.43, Ask=3.46, _5=0.01, _6=0.29, _7=6.45, _8=1.01, _9=3.5752, _10=3.39, Volume=7019537.0, _12=1008264000.0, Sector='Health Care'), Pandas(Symbol='PACB', Name='Pacific Biosciences', Price=33.82, Bid=33.8, Ask=34.05, _5=0.51, _6=1.53, _7=53.69, _8=2.54, _9=36.285, _10=33.77, Volume=3186034.0, _12=6530732941.0, Sector='Health Care'), Pandas(Symbol='PFE', Name='Pfizer', Price=36.26, Bid=36.02, Ask=36.5, _5=0.07, _6=0.19, _7=43.0797, _8=31.05, _9=36.45, _10=36.02, Volume=19277707.0, _12=202264228598.0, Sector='Health Care'), Pandas(Symbol='PINS', Name='Pinterest', Price=77.95, Bid=77.74, Ask=77.95, _5=0.24, _6=0.31, _7=89.9, _8=13.38, _9=78.669, _10=75.81, Volume=11182157.0, _12=48832444721.0, Sector='Communication Services'), Pandas(Symbol='PLAY', Name=\"Dave & Buster's Enter\", Price=45.31, Bid=45.0, Ask=45.83, _5=-2.59, _6=-5.41, _7=51.73, _8=8.43, _9=47.3055, _10=44.04, Volume=3676584.0, _12=2159400110.0, Sector='Consumer Discretionary'), Pandas(Symbol='PLTR', Name='Palantir Technologies', Price=23.08, Bid=23.02, Ask=23.08, _5=-0.21, _6=-0.9, _7=45.0, _8=8.9, _9=23.93, _10=22.735, Volume=50601235.0, _12=42057935007.0, Sector=nan), Pandas(Symbol='PLUG', Name='Plug Power', Price=35.26, Bid=35.2, Ask=35.39, _5=-0.58, _6=-1.62, _7=75.49, _8=3.22, _9=37.75, _10=35.03, Volume=28856496.0, _12=20792244441.0, Sector='Industrials'), Pandas(Symbol='PTON', Name='Peloton Interactive', Price=112.09, Bid=112.09, Ask=112.4, _5=-0.35, _6=-0.31, _7=171.09, _8=25.85, _9=118.95, _10=111.67, Volume=6727653.0, _12=33010691629.0, Sector='Consumer Discretionary'), Pandas(Symbol='QCOM', Name='Qualcomm', Price=137.79, Bid=137.75, Ask=137.85, _5=5.2, _6=3.92, _7=167.94, _8=64.55, _9=138.43, _10=133.6, Volume=12536292.0, _12=156529440000.0, Sector='Information Technology'), Pandas(Symbol='QQQ', Name='Invesco QQQ Trust, Series 1', Price=325.36, Bid=324.2, Ask=325.4, _5=0.79, _6=0.24, _7=338.19, _8=180.86, _9=324.7, _10=322.82, Volume=53076384.0, _12=nan, Sector=nan), Pandas(Symbol='QS', Name='QuantumScape', Price=49.29, Bid=49.2, Ask=49.37, _5=4.58, _6=10.23, _7=132.73, _8=28.63, _9=53.17, _10=48.42, Volume=24503196.0, _12=18754280238.0, Sector='Consumer Discretionary'), Pandas(Symbol='RBLX', Name='Roblox', Price=67.305, Bid=67.15, Ask=67.42, _5=2.475, _6=3.82, _7=79.1, _8=60.5, _9=69.67, _10=65.9, Volume=3981521.0, _12=nan, Sector=nan), Pandas(Symbol='RIOT', Name='Riot Blockchain', Price=52.03, Bid=51.99, Ask=52.2, _5=-1.17, _6=-2.2, _7=79.5, _8=0.76, _9=56.8235, _10=51.12, Volume=14792124.0, _12=4376801217.0, Sector='Information Technology'), Pandas(Symbol='RKT', Name='Rocket Companies', Price=22.55, Bid=22.5, Ask=22.6, _5=-0.54, _6=-2.34, _7=43.0, _8=17.78, _9=23.4, _10=22.54, Volume=8601438.0, _12=44749239051.0, Sector=nan), Pandas(Symbol='SBUX', Name='Starbucks', Price=109.38, Bid=109.35, Ask=109.51, _5=0.11, _6=0.1, _7=112.34, _8=60.9, _9=110.06, _10=108.2, Volume=5032450.0, _12=128773074000.0, Sector='Consumer Discretionary'), Pandas(Symbol='SHOP', Name='Shopify', Price=1155.82, Bid=1153.86, Ask=1156.71, _5=48.76, _6=4.41, _7=1499.75, _8=334.55, _9=1178.98, _10=1137.02, Volume=1108410.0, _12=141774503034.0, Sector='Information Technology'), Pandas(Symbol='SNAP', Name='Snap', Price=54.48, Bid=54.37, Ask=54.51, _5=2.2, _6=4.21, _7=73.59, _8=10.85, _9=54.72, _10=53.36, Volume=15513265.0, _12=82187487630.0, Sector='Communication Services'), Pandas(Symbol='SNOW', Name='Snowflake', Price=236.6, Bid=236.47, Ask=236.85, _5=7.32, _6=3.19, _7=429.0, _8=205.07, _9=237.59, _10=232.02, Volume=2783732.0, _12=68306420000.0, Sector='Information Technology'), Pandas(Symbol='SPCE', Name='Virgin Galactic Hldgs', Price=30.74, Bid=30.65, Ask=30.75, _5=0.115, _6=0.38, _7=62.8, _8=12.1, _9=31.743, _10=30.1615, Volume=6404024.0, _12=7283666644.0, Sector='Industrials'), Pandas(Symbol='SPG', Name='Simon Property Group', Price=115.11, Bid=112.44, Ask=116.33, _5=1.56, _6=1.37, _7=121.92, _8=42.25, _9=115.34, _10=112.63, Volume=2767554.0, _12=37777853401.0, Sector='Real Estate'), Pandas(Symbol='SPOT', Name='Spotify Technology', Price=273.01, Bid=272.45, Ask=273.34, _5=5.16, _6=1.93, _7=387.44, _8=116.0, _9=280.0, _10=270.53, Volume=956716.0, _12=52111731283.0, Sector='Communication Services'), Pandas(Symbol='SPY', Name='SPDR S&P 500', Price=401.21, Bid=400.86, Ask=401.36, _5=0.57, _6=0.14, _7=398.12, _8=243.9, _9=400.67, _10=398.2, Volume=89546532.0, _12=nan, Sector=nan), Pandas(Symbol='SQ', Name='Square', Price=229.76, Bid=229.07, Ask=229.76, _5=2.455, _6=1.08, _7=283.1898, _8=42.33, _9=236.46, _10=227.57, Volume=8894742.0, _12=104452264281.0, Sector='Information Technology'), Pandas(Symbol='T', Name='AT&T', Price=30.48, Bid=30.46, Ask=30.48, _5=0.195, _6=0.64, _7=33.24, _8=26.35, _9=30.48, _10=30.03, Volume=29854382.0, _12=217580204899.0, Sector='Communication Services'), Pandas(Symbol='TLRY', Name='Tilray', Price=22.34, Bid=22.3, Ask=22.36, _5=-0.42, _6=-1.85, _7=67.0, _8=4.41, _9=23.62, _10=22.15, Volume=12440517.0, _12=3837066749.0, Sector='Health Care'), Pandas(Symbol='TLT', Name='iShares 20+ Year Treasury Bond ETF', Price=137.3, Bid=137.3, Ask=137.45, _5=-0.21, _6=-0.15, _7=172.25, _8=133.19, _9=137.61, _10=136.3, Volume=12596157.0, _12=nan, Sector=nan), Pandas(Symbol='TME', Name='Tencent Music Enter Gr', Price=20.1, Bid=20.06, Ask=20.12, _5=-0.38, _6=-1.85, _7=32.2481, _8=9.3, _9=21.38, _10=19.76, Volume=57318587.0, _12=33735188006.0, Sector='Communication Services'), Pandas(Symbol='TSEM', Name='Tower Semiconductor', Price=28.92, Bid=28.55, Ask=29.0, _5=0.87, _6=3.1, _7=34.45, _8=15.08, _9=28.99, _10=28.39, Volume=452292.0, _12=3118632852.0, Sector='Information Technology'), Pandas(Symbol='TSLA', Name='Tesla', Price=661.75, Bid=661.01, Ask=661.33, _5=-6.6, _6=-0.99, _7=900.4, _8=89.28, _9=692.4203, _10=659.499, Volume=34484783.0, _12=635183056272.0, Sector='Consumer Discretionary'), Pandas(Symbol='TWTR', Name='Twitter', Price=63.88, Bid=63.66, Ask=64.05, _5=0.22, _6=0.35, _7=80.75, _8=22.36, _9=66.36, _10=63.65, Volume=14236297.0, _12=50985980933.0, Sector='Communication Services'), Pandas(Symbol='UAL', Name='United Airlines Holdings', Price=57.82, Bid=57.82, Ask=57.92, _5=0.28, _6=0.49, _7=63.6999, _8=18.18, _9=58.54, _10=57.28, Volume=10515928.0, _12=18709238907.0, Sector='Industrials'), Pandas(Symbol='UBER', Name='Uber Technologies', Price=57.61, Bid=57.51, Ask=57.67, _5=3.1056, _6=5.7, _7=64.05, _8=21.67, _9=57.63, _10=54.81, Volume=17954854.0, _12=107206797137.0, Sector='Industrials'), Pandas(Symbol='USO', Name='United States Oil Fund', Price=41.84, Bid=40.97, Ask=42.14, _5=-0.01, _6=-0.02, _7=44.64, _8=2.11, _9=42.17, _10=40.3, Volume=11355673.0, _12=nan, Sector=nan), Pandas(Symbol='V', Name='Visa', Price=216.98, Bid=216.69, Ask=216.98, _5=5.17, _6=2.44, _7=228.2298, _8=150.6, _9=217.74, _10=212.38, Volume=5498628.0, _12=463746074442.0, Sector='Information Technology'), Pandas(Symbol='WBA', Name='Walgreens Boots Alliance', Price=54.75, Bid=54.76, Ask=54.77, _5=-0.15, _6=-0.27, _7=56.12, _8=33.36, _9=55.4664, _10=53.16, Volume=7457154.0, _12=47325594385.0, Sector='Consumer Staples'), Pandas(Symbol='WFC', Name='Wells Fargo', Price=39.61, Bid=39.05, Ask=39.8, _5=0.54, _6=1.38, _7=41.54, _8=20.76, _9=39.64, _10=38.93, Volume=19722692.0, _12=163753459485.0, Sector='Financials'), Pandas(Symbol='WIFI', Name='Boingo Wireless', Price=14.11, Bid=14.07, Ask=14.34, _5=0.03, _6=0.21, _7=15.92, _8=8.69, _9=14.34, _10=14.08, Volume=809749.0, _12=630977992.0, Sector='Communication Services'), Pandas(Symbol='WKHS', Name='Workhorse Group', Price=14.14, Bid=14.05, Ask=14.2, _5=0.355, _6=2.58, _7=42.96, _8=1.57, _9=14.91, _10=13.99, Volume=10037776.0, _12=1794436855.0, Sector='Consumer Discretionary'), Pandas(Symbol='XOM', Name='Exxon Mobil', Price=57.35, Bid=57.0, Ask=57.42, _5=1.55, _6=2.78, _7=62.55, _8=31.11, _9=57.45, _10=56.14, Volume=21231012.0, _12=242792530687.0, Sector='Energy'), Pandas(Symbol='XPEL', Name='XPEL', Price=54.76, Bid=53.0, Ask=56.0, _5=2.83, _6=5.45, _7=65.7399, _8=8.428, _9=54.92, _10=53.0756, Volume=132039.0, _12=1512065811.0, Sector='Consumer Discretionary'), Pandas(Symbol='ZM', Name='Zoom Video Communications', Price=326.23, Bid=326.16, Ask=326.23, _5=4.92, _6=1.53, _7=588.84, _8=108.5301, _9=338.91, _10=325.5, Volume=2629944.0, _12=95818332900.0, Sector='Information Technology'), Pandas(Symbol='exported from Benzinga Pro', Name=nan, Price=nan, Bid=nan, Ask=nan, _5=nan, _6=nan, _7=nan, _8=nan, _9=nan, _10=nan, Volume=nan, _12=nan, Sector=nan)]\n"
     ]
    }
   ],
   "source": [
    "print(post_data)"
   ]
  }
 ]
}